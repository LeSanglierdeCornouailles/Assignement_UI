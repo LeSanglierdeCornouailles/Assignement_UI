{
  "nbformat": 4,
  "nbformat_minor": 0,
  "metadata": {
    "kernelspec": {
      "display_name": "Python 3",
      "language": "python",
      "name": "python3"
    },
    "language_info": {
      "codemirror_mode": {
        "name": "ipython",
        "version": 3
      },
      "file_extension": ".py",
      "mimetype": "text/x-python",
      "name": "python",
      "nbconvert_exporter": "python",
      "pygments_lexer": "ipython3",
      "version": "3.7.3"
    },
    "colab": {
      "name": "Copie de Victor.ipynb",
      "provenance": [],
      "collapsed_sections": [],
      "machine_shape": "hm",
      "include_colab_link": true
    }
  },
  "cells": [
    {
      "cell_type": "markdown",
      "metadata": {
        "id": "view-in-github",
        "colab_type": "text"
      },
      "source": [
        "<a href=\"https://colab.research.google.com/github/vmgc031283/Assignement_UI/blob/master/Copie_de_Victor.ipynb\" target=\"_parent\"><img src=\"https://colab.research.google.com/assets/colab-badge.svg\" alt=\"Open In Colab\"/></a>"
      ]
    },
    {
      "cell_type": "code",
      "metadata": {
        "id": "FnA3p_S8AlXj",
        "colab_type": "code",
        "colab": {}
      },
      "source": [
        "!pip install PyDrive\n"
      ],
      "execution_count": 0,
      "outputs": []
    },
    {
      "cell_type": "code",
      "metadata": {
        "id": "0afk5aGoC_m9",
        "colab_type": "code",
        "colab": {}
      },
      "source": [
        "from pydrive.auth import GoogleAuth\n",
        "from pydrive.drive import GoogleDrive\n",
        "from google.colab import auth\n",
        "from oauth2client.client import GoogleCredentials"
      ],
      "execution_count": 0,
      "outputs": []
    },
    {
      "cell_type": "code",
      "metadata": {
        "id": "c-uKiyd2Dh8V",
        "colab_type": "code",
        "colab": {}
      },
      "source": [
        "auth.authenticate_user()\n",
        "gauth = GoogleAuth()\n",
        "gauth.credentials = GoogleCredentials.get_application_default()\n",
        "drive = GoogleDrive(gauth)"
      ],
      "execution_count": 0,
      "outputs": []
    },
    {
      "cell_type": "code",
      "metadata": {
        "id": "Uq4gy-0YEBcS",
        "colab_type": "code",
        "colab": {}
      },
      "source": [
        "downloaded = drive.CreateFile({'id':\"1A9U1jaKCLsZRWb3WYI77ciy9Xdgm39OL\"})   # replace the id with id of file you want to access\n",
        "downloaded.GetContentFile('mta_1706.csv')\n",
        "\n",
        "downloaded = drive.CreateFile({'id':\"17G8g3lv_mdzCKodLH1S6jt-47zjGiSSa\"})   # replace the id with id of file you want to access\n",
        "downloaded.GetContentFile('mta_1708.csv')\n",
        "\n",
        "downloaded = drive.CreateFile({'id':\"1Qzn3KKP1CwGQbEvdUkXUsqkqnlIw6Lnv\"})   # replace the id with id of file you want to access\n",
        "downloaded.GetContentFile('mta_1710.csv')\n",
        "\n",
        "downloaded = drive.CreateFile({'id':\"1T6HDwsPxDobjmGMVPndDSVTQw82i8LSc\"})   # replace the id with id of file you want to access\n",
        "downloaded.GetContentFile('mta_1712.csv')"
      ],
      "execution_count": 0,
      "outputs": []
    },
    {
      "cell_type": "code",
      "metadata": {
        "id": "Hf2LFy2eDQsF",
        "colab_type": "code",
        "colab": {}
      },
      "source": [
        "import pandas as pd\n",
        "import numpy as np\n",
        "from datetime import datetime\n",
        "import calendar\n",
        "\n",
        "df_1 = pd.read_csv(\"mta_1706.csv\", low_memory=False)\n",
        "df_2 = pd.read_csv(\"mta_1708.csv\", low_memory=False)\n",
        "df_3 = pd.read_csv(\"mta_1710.csv\", low_memory=False)\n",
        "df_4 = pd.read_csv(\"mta_1712.csv\", low_memory=False)\n",
        "\n"
      ],
      "execution_count": 0,
      "outputs": []
    },
    {
      "cell_type": "code",
      "metadata": {
        "id": "3KxI_1W6LPyC",
        "colab_type": "code",
        "colab": {
          "base_uri": "https://localhost:8080/",
          "height": 136
        },
        "outputId": "e5de7287-a5b4-4deb-ec10-6ac227dec87d"
      },
      "source": [
        "df_row = pd.concat([df_1, df_2, df_3, df_4])\n",
        "pd.set_option('display.expand_frame_repr', False)\n",
        "\n",
        "# To print row dataframe\n",
        "print(df_row.head())\n",
        "print('')"
      ],
      "execution_count": 50,
      "outputs": [
        {
          "output_type": "stream",
          "text": [
            "                  OriginName                  DestinationName ExpectedArrivalTime ScheduledArrivalTime Unnamed: 4\n",
            "0                 4 AV/95 ST          BROWNSVILLE ROCKAWAY AV       6/1/2017 0:03             24:06:14        NaN\n",
            "1  ST GEORGE FERRY/S61 & S91                S I MALL YUKON AV       6/1/2017 0:03             23:58:02        NaN\n",
            "2     E 206 ST/BAINBRIDGE AV                 RIVERDALE 263 ST       6/1/2017 0:03             24:00:53        NaN\n",
            "3           TEARDROP/LAYOVER    ROSEDALE LIRR STA via MERRICK       6/1/2017 0:04             24:03:00        NaN\n",
            "4      RIVERDALE AV/W 231 ST  MOTT HAVEN 136 ST via CONCOURSE       6/1/2017 0:03             23:59:38        NaN\n",
            "\n"
          ],
          "name": "stdout"
        }
      ]
    },
    {
      "cell_type": "code",
      "metadata": {
        "id": "3pQR7diuVJRS",
        "colab_type": "code",
        "colab": {
          "base_uri": "https://localhost:8080/",
          "height": 34
        },
        "outputId": "1b190e7a-9826-4393-ea2b-9b3f35c595f5"
      },
      "source": [
        "# To see shape\n",
        "print(df_row.shape)\n"
      ],
      "execution_count": 51,
      "outputs": [
        {
          "output_type": "stream",
          "text": [
            "(4194300, 5)\n"
          ],
          "name": "stdout"
        }
      ]
    },
    {
      "cell_type": "code",
      "metadata": {
        "id": "8-s5RLNENPZe",
        "colab_type": "code",
        "colab": {
          "base_uri": "https://localhost:8080/",
          "height": 238
        },
        "outputId": "50cc6ac2-2002-4dce-d045-85baac44c454"
      },
      "source": [
        "#  grouping to see which pair has the largest frequency\n",
        "df_row.groupby(['OriginName', 'DestinationName']).size().sort_values(ascending=False)"
      ],
      "execution_count": 53,
      "outputs": [
        {
          "output_type": "execute_result",
          "data": {
            "text/plain": [
              "OriginName                       DestinationName                        \n",
              "E 126 ST/2 AV                    SELECT BUS SERVICE SOUTH FERRY via 2 AV    26881\n",
              "W 179 ST/BROADWAY                W FARMS RD SOUTHERN BL                     26125\n",
              "BOSTON RD/E 180 ST               SELECT BUS JAMAICA via MAIN ST             25659\n",
              "MERRICK BL/ARCHER AV             SELECT BUS BRONX ZOO via MAIN ST           25434\n",
              "W 179 ST/BROADWAY                SOUNDVIEW PUGSLEY AV                       20856\n",
              "                                                                            ...  \n",
              "NOSTRAND AV/AV H                 AVENUE X                                       4\n",
              "NOSTRAND AV/AV U                 SHEPSHD BAY KNAPP ST via NOSTRND               3\n",
              "CORPORAL KENNEDY ST/33 AV        NORTHERN BL                                    3\n",
              "SURF AV/W 37 ST                  OCEAN PKY                                      2\n",
              "WASHINGTON PLZ / WASHINGTON PLZ  FRSH PND RD                                    2\n",
              "Length: 1201, dtype: int64"
            ]
          },
          "metadata": {
            "tags": []
          },
          "execution_count": 53
        }
      ]
    },
    {
      "cell_type": "code",
      "metadata": {
        "id": "6xG3LEIFSB_6",
        "colab_type": "code",
        "colab": {}
      },
      "source": [
        "# Select DataFrame Rows Based on multiple conditions on columns\n",
        "\t\n",
        "df_row_1 = df_row[(df_row['OriginName'] == \"E 126 ST/2 AV\") & (df_row['DestinationName'] == 'SELECT BUS SERVICE SOUTH FERRY via 2 AV' ) ]\n",
        "df_row_2 = df_row[(df_row['OriginName'] == \"W 179 ST/BROADWAY\") & (df_row['DestinationName'] == 'W FARMS RD SOUTHERN BL' ) ]\n",
        "df_row_3 = df_row[(df_row['OriginName'] == \"BOSTON RD/E 180 ST\") & (df_row['DestinationName'] == 'SELECT BUS JAMAICA via MAIN ST' ) ]\n",
        "df_row_4 = df_row[(df_row['OriginName'] == \"MERRICK BL/ARCHER AV\") & (df_row['DestinationName'] == 'SELECT BUS BRONX ZOO via MAIN ST' ) ]\n",
        "df_row_5 = df_row[(df_row['OriginName'] == \"W 179 ST/BROADWAY\") & (df_row['DestinationName'] == 'SOUNDVIEW PUGSLEY AV' ) ]"
      ],
      "execution_count": 0,
      "outputs": []
    },
    {
      "cell_type": "code",
      "metadata": {
        "id": "jKGpKeyCUkEn",
        "colab_type": "code",
        "colab": {
          "base_uri": "https://localhost:8080/",
          "height": 136
        },
        "outputId": "95934ba2-0642-49c4-dcdf-00b746eb3dc4"
      },
      "source": [
        "df_row = pd.concat([df_row_1, df_row_2, df_row_3, df_row_4,df_row_5])\n",
        "pd.set_option('display.expand_frame_repr', False)\n",
        "\n",
        "# To print row dataframe\n",
        "print(df_row.head())\n",
        "print('')"
      ],
      "execution_count": 57,
      "outputs": [
        {
          "output_type": "stream",
          "text": [
            "         OriginName                          DestinationName ExpectedArrivalTime ScheduledArrivalTime Unnamed: 4\n",
            "9180  E 126 ST/2 AV  SELECT BUS SERVICE SOUTH FERRY via 2 AV       6/1/2017 4:44              4:45:30        NaN\n",
            "9181  E 126 ST/2 AV  SELECT BUS SERVICE SOUTH FERRY via 2 AV       6/1/2017 4:44              4:45:21        NaN\n",
            "9565  E 126 ST/2 AV  SELECT BUS SERVICE SOUTH FERRY via 2 AV       6/1/2017 4:54              4:56:31        NaN\n",
            "9566  E 126 ST/2 AV  SELECT BUS SERVICE SOUTH FERRY via 2 AV       6/1/2017 4:54              4:56:12        NaN\n",
            "9567  E 126 ST/2 AV  SELECT BUS SERVICE SOUTH FERRY via 2 AV       6/1/2017 4:54              4:54:12        NaN\n",
            "\n"
          ],
          "name": "stdout"
        }
      ]
    },
    {
      "cell_type": "code",
      "metadata": {
        "id": "Q-QK_AcaVCC0",
        "colab_type": "code",
        "colab": {
          "base_uri": "https://localhost:8080/",
          "height": 51
        },
        "outputId": "b5a1c65b-3ffe-425f-a969-8749977c6c84"
      },
      "source": [
        "# To see shape\n",
        "print(df_row.shape)\n",
        "print('')"
      ],
      "execution_count": 58,
      "outputs": [
        {
          "output_type": "stream",
          "text": [
            "(124955, 5)\n",
            "\n"
          ],
          "name": "stdout"
        }
      ]
    },
    {
      "cell_type": "code",
      "metadata": {
        "id": "jbN51DiRAlXm",
        "colab_type": "code",
        "colab": {}
      },
      "source": [
        "\n",
        "# To print Data type\n",
        "# print(df_row.info(verbose=True))\n",
        "# print('')\n",
        "\n",
        "# print(df_row.memory_usage())\n",
        "\n",
        "# to convert column data type into category\n",
        "df_row['OriginName'].astype('category')\n",
        "df_row['DestinationName'].astype('category')\n",
        "\n",
        "# count of missing values in each column:\n",
        "# print(df_row.isnull().sum())\n",
        "# print('')\n",
        "\n",
        "# To print unique values\n",
        "# OriginName = df_row['OriginName'].unique()\n",
        "# print(OriginName)\n",
        "# print(sorted(OriginName))\n",
        "\n",
        "# DestinationName = df_row['DestinationName'].unique()\n",
        "# print (DestinationName)\n",
        "# print(sorted(DestinationName))\n",
        "\n",
        "# To see shape\n",
        "# print(df_row.shape)\n",
        "# print('')\n",
        "\n",
        "# To choose columns needed\n",
        "df_row = df_row[[\"OriginName\", \"DestinationName\", \"ExpectedArrivalTime\", \"ScheduledArrivalTime\"]]\n",
        "# print(df_row.head())\n",
        "# print('')\n",
        "\n",
        "# To split column + convert str to int + set datetime.\n",
        "df_row[['date_Arrival_RT','Arrival_RT']] = df_row['ExpectedArrivalTime'].str.split(expand=True)\n",
        "# print(df_row.head())\n",
        "# print('')\n",
        "\n",
        "# count of missing values in each column :\n",
        "# print(df_row.isnull().sum())\n",
        "# print('')\n",
        "\n",
        "# To drop those Nan values\n",
        "df_row = df_row.dropna()\n",
        "# count of missing values in each column:\n",
        "# print(df_row.isnull().sum())\n",
        "# print('')\n",
        "\n"
      ],
      "execution_count": 0,
      "outputs": []
    },
    {
      "cell_type": "code",
      "metadata": {
        "id": "AJQJdEF4AlXp",
        "colab_type": "code",
        "colab": {}
      },
      "source": [
        "# to prepare the data Hours, Minutes and Seconds\n",
        "df_row['ScheduledArrivalTime'] = df_row['ScheduledArrivalTime'].str.replace(\"^24:\", \"00:\", regex=True)\n",
        "df_row['ScheduledArrivalTime'] = df_row['ScheduledArrivalTime'].str.replace(\"^25:\", \"01:\", regex=True)\n",
        "df_row['ScheduledArrivalTime'] = df_row['ScheduledArrivalTime'].str.replace(\"^26:\", \"02:\", regex=True)\n",
        "df_row['ScheduledArrivalTime'] = df_row['ScheduledArrivalTime'].str.replace(\"^27:\", \"03:\", regex=True)\n",
        "df_row['ScheduledArrivalTime'] = df_row['ScheduledArrivalTime'].str.replace(\"^28:\", \"04:\", regex=True)\n",
        "df_row['ScheduledArrivalTime'] = df_row['ScheduledArrivalTime'].str.replace(\"^29:\", \"05:\", regex=True)\n",
        "df_row['ScheduledAT'] = df_row['ScheduledArrivalTime'].apply(lambda x: datetime.strptime(x, '%H:%M:%S'))\n",
        "df_row['RTArrival'] = df_row['Arrival_RT'].apply(lambda x: datetime.strptime(x, '%H:%M'))\n",
        "# print(df_row.head())\n",
        "# print('')\n",
        "\n",
        "# difference\n",
        "df_row['delays'] = df_row['ScheduledAT'] - df_row['RTArrival']\n",
        "df_row['delays'] = df_row['delays'].apply(lambda x: abs(x).total_seconds())\n",
        "# print(df_row.head())\n",
        "# print('')\n",
        "\n",
        "# Count\n",
        "# print(df_row[df_row.delays > 80000].count())\n",
        "# print('')\n",
        "\n",
        "# dropping values over 80000sec\n",
        "df_row = df_row[df_row['delays'] < 80000]\n",
        "# print(df_row.head())\n",
        "# print('')\n",
        "\n",
        "#Checking unique values\n",
        "# print(df_row['date_Arrival_RT'].unique())\n",
        "# print('')\n",
        "\n",
        "# Creating new column \"delays_5min\" from \"delays\"\n",
        "df_row['delays_5min'] = np.where(df_row['delays'] > 300,'1','0')\n",
        "# print(df_row.head())\n",
        "# print('')\n",
        "\n",
        "# To convert ScheduledArrivalTime into timestamp\n",
        "df_row['Dep_time'] = pd.to_datetime(df_row['ScheduledArrivalTime'], format='%H:%M:%S').apply(pd.Timestamp)\n",
        "# print(df_row.head())\n",
        "# print('')\n",
        "\n",
        "# To split column 'Dep_time'\n",
        "# df_row[['date','Departure_time']] = df_row['Dep_time'].str.split(expand=True)\n",
        "\n",
        "\n"
      ],
      "execution_count": 0,
      "outputs": []
    },
    {
      "cell_type": "code",
      "metadata": {
        "id": "du1x7WiMAlXt",
        "colab_type": "code",
        "colab": {}
      },
      "source": [
        "df_row['Dates'] = pd.to_datetime(df_row['Dep_time']).dt.date\n",
        "df_row['Departure_time'] = pd.to_datetime(df_row['Dep_time']).dt.time\n",
        "# print(df_row.head())\n",
        "# print('')\n",
        "\n",
        "# to choose columns needed\n",
        "df_row = df_row[[\"date_Arrival_RT\", \"OriginName\", \"DestinationName\", \"Departure_time\", \"delays_5min\"]]\n",
        "# print(df_row.head())\n",
        "# print('')\n",
        "\n",
        "# to convert string/obj to datetime\n",
        "df_row['dates'] = pd.to_datetime(df_row['date_Arrival_RT'])\n",
        "\n",
        "# checking typedate\n",
        "# print(df_row.dtypes)\n",
        "# print('')\n",
        "\n",
        "# to print dataframe with the coloumn converted.\n",
        "# print(df_row.head())\n",
        "# print('')\n",
        "\n",
        "# to print dates\n",
        "# print(df_row['dates'])\n",
        "# print('')\n",
        "\n",
        "# finding earliest oldest date to to know th range of period.\n",
        "# print(min(df_row['dates']))\n",
        "# print(max(df_row['dates']))\n",
        "# print('')\n",
        "\n",
        "# creating day of the week\n",
        "df_row['day_of_week'] = df_row['dates'].dt.dayofweek\n",
        "\n",
        "\n",
        "# creating day of the month\n",
        "df_row['day_of_month'] = df_row['dates'].dt.day\n",
        "\n",
        "# to split column in month\n",
        "df_row['month'] = df_row['dates'].dt.month\n",
        "# print(df_row.head())\n",
        "# print('')\n",
        "\n",
        "# to choose columns needed\n",
        "df_row = df_row[[\"month\",\"day_of_month\",\"day_of_week\",\"OriginName\",\"DestinationName\", \"Departure_time\", \"delays_5min\"]]\n",
        "# print(df_row.head())\n",
        "# print('')\n",
        "\n",
        "# splitting Departure_time to covert them militarytime\n",
        "df_row[['h','m','s']] = df_row['Departure_time'].astype(str).str.split(':', expand=True).astype(int)\n",
        "# print('')\n",
        "\n",
        "# Concatenate three numerical values to make a new column using pandas.\n",
        "df_row['dep_time'] = df_row.h.astype(str) + df_row.m.astype(str) + df_row.s.astype(str)\n",
        "# print('')\n",
        "\n",
        "# printing\n",
        "# print(df_row.head())\n",
        "# print('')\n",
        "\n",
        "# converting dep_time string astype() method of Python Pandas\n",
        "df_row['dep_time'] = df_row['dep_time'].astype('int')\n",
        "# print('')\n",
        "\n",
        "# to choose columns needed\n",
        "df_row = df_row[[\"month\",\"day_of_month\",\"day_of_week\",\"OriginName\",\"DestinationName\", \"dep_time\", \"delays_5min\"]]\n",
        "# print(df_row.head())\n",
        "# print('')\n",
        "\n",
        "# Counting zeros\n",
        "# print(df_row.isin([0]).sum())\n",
        "# print('')\n",
        "\n",
        "\n",
        "# Dropping rows from column where some of the columns have value 0\n",
        "df_row = df_row.drop(df_row[df_row['dep_time'] == 0].index)\n",
        "# print('')\n",
        "\n",
        "# Counting zeros\n",
        "# print(df_row.isin([0]).sum())\n",
        "# print('')\n",
        "\n",
        "# binning or quantization.\n",
        "# df_row['dep_time'] / 100\n",
        "df_row['dep_time'] = df_row['dep_time'].div(100).round()\n",
        "# print(df_row.head())\n",
        "# print('')\n",
        "\n",
        "# rounded number\n",
        "m = (df_row.dtypes == 'float')\n",
        "df_row.loc[:, m] = df_row.loc[:, m].astype(int)\n",
        "# print(df_row.head())\n",
        "# print('')\n",
        "\n"
      ],
      "execution_count": 0,
      "outputs": []
    },
    {
      "cell_type": "code",
      "metadata": {
        "id": "ZjVWf1rNAlXw",
        "colab_type": "code",
        "colab": {}
      },
      "source": [
        "#  indicator columns from the ORIGIN and DEST columns,\n",
        "df_row = pd.get_dummies(df_row, columns=['OriginName', 'DestinationName'])\n",
        "# print(df_row.head())\n",
        "# print('')"
      ],
      "execution_count": 0,
      "outputs": []
    },
    {
      "cell_type": "code",
      "metadata": {
        "id": "R_b9c57sAlXz",
        "colab_type": "code",
        "colab": {}
      },
      "source": [
        "df_row.head()"
      ],
      "execution_count": 0,
      "outputs": []
    },
    {
      "cell_type": "code",
      "metadata": {
        "id": "-f8qrpZuAlX2",
        "colab_type": "code",
        "colab": {}
      },
      "source": [
        "# splitting the date into train and test\n",
        "\n",
        "from sklearn.model_selection import train_test_split\n",
        "train_x, test_x, train_y, test_y = train_test_split(df_row.drop('delays_5min', axis=1), df_row['delays_5min'], test_size=0.2, random_state=42)"
      ],
      "execution_count": 0,
      "outputs": []
    },
    {
      "cell_type": "code",
      "metadata": {
        "id": "pZ-tG34pfDCr",
        "colab_type": "code",
        "colab": {}
      },
      "source": [
        "train_x.shape"
      ],
      "execution_count": 0,
      "outputs": []
    },
    {
      "cell_type": "code",
      "metadata": {
        "id": "E84YRuw2fK0K",
        "colab_type": "code",
        "colab": {}
      },
      "source": [
        "test_x.shape"
      ],
      "execution_count": 0,
      "outputs": []
    },
    {
      "cell_type": "code",
      "metadata": {
        "id": "tve5wCD9fVq6",
        "colab_type": "code",
        "colab": {}
      },
      "source": [
        "train_y.shape"
      ],
      "execution_count": 0,
      "outputs": []
    },
    {
      "cell_type": "code",
      "metadata": {
        "id": "LGvVpiqEfV3U",
        "colab_type": "code",
        "colab": {}
      },
      "source": [
        "test_y.shape"
      ],
      "execution_count": 0,
      "outputs": []
    },
    {
      "cell_type": "code",
      "metadata": {
        "id": "PYERoQyngwcn",
        "colab_type": "code",
        "colab": {}
      },
      "source": [
        "# training the model\n",
        "\n",
        "from sklearn.ensemble import RandomForestClassifier\n",
        "\n",
        "model = RandomForestClassifier(random_state=13)\n",
        "model.fit(train_x, train_y)"
      ],
      "execution_count": 0,
      "outputs": []
    },
    {
      "cell_type": "code",
      "metadata": {
        "id": "9w14vAhkcPUS",
        "colab_type": "code",
        "colab": {
          "base_uri": "https://localhost:8080/",
          "height": 34
        },
        "outputId": "083dddcf-5979-4648-fdc1-12259e52c92b"
      },
      "source": [
        "from sklearn import preprocessing\n",
        "lb = preprocessing.LabelBinarizer()\n",
        "lb.fit(train_y)"
      ],
      "execution_count": 97,
      "outputs": [
        {
          "output_type": "execute_result",
          "data": {
            "text/plain": [
              "LabelBinarizer(neg_label=0, pos_label=1, sparse_output=False)"
            ]
          },
          "metadata": {
            "tags": []
          },
          "execution_count": 97
        }
      ]
    },
    {
      "cell_type": "code",
      "metadata": {
        "id": "ljcej3_4W4p8",
        "colab_type": "code",
        "colab": {
          "base_uri": "https://localhost:8080/",
          "height": 34
        },
        "outputId": "cfec119b-ab51-4bf6-d682-d7980d3ceeaa"
      },
      "source": [
        "# testing model\n",
        "predicted = model.predict(test_x)\n",
        "model.score(test_x, test_y)"
      ],
      "execution_count": 98,
      "outputs": [
        {
          "output_type": "execute_result",
          "data": {
            "text/plain": [
              "0.609226833678825"
            ]
          },
          "metadata": {
            "tags": []
          },
          "execution_count": 98
        }
      ]
    },
    {
      "cell_type": "code",
      "metadata": {
        "id": "CujWwKElmuLN",
        "colab_type": "code",
        "colab": {}
      },
      "source": [
        "# to generate a set of prediction probabilities from the test data\n",
        "\n",
        "from sklearn.metrics import roc_auc_score\n",
        "probabilities = model.predict_proba(test_x)\n"
      ],
      "execution_count": 0,
      "outputs": []
    },
    {
      "cell_type": "code",
      "metadata": {
        "id": "VdvOEYdTnCOQ",
        "colab_type": "code",
        "colab": {}
      },
      "source": [
        "# Generating an AUC score\n",
        "\n",
        "roc_auc_score(test_y, probabilities[:,1])"
      ],
      "execution_count": 0,
      "outputs": []
    },
    {
      "cell_type": "code",
      "metadata": {
        "id": "g-xNfHwnnQVG",
        "colab_type": "code",
        "colab": {}
      },
      "source": [
        "# generating confusion matrix\n",
        "\n",
        "from sklearn.metrics import confusion_matrix\n",
        "confusion_matrix(test_y, predicted)"
      ],
      "execution_count": 0,
      "outputs": []
    },
    {
      "cell_type": "code",
      "metadata": {
        "id": "4aqX_BrmnUBz",
        "colab_type": "code",
        "colab": {}
      },
      "source": [
        "# measuring precision\n",
        "\n",
        "from sklearn.metrics import precision_score\n",
        "\n",
        "train_predictions = model.predict(train_x)\n",
        "precision_score(train_y, train_predictions)"
      ],
      "execution_count": 0,
      "outputs": []
    },
    {
      "cell_type": "code",
      "metadata": {
        "id": "N31h1lXNnawo",
        "colab_type": "code",
        "colab": {}
      },
      "source": [
        "#  measuring recall\n",
        "\n",
        "from sklearn.metrics import recall_score\n",
        "recall_score(train_y, train_predictions)"
      ],
      "execution_count": 0,
      "outputs": []
    }
  ]
}